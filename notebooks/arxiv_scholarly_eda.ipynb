{
 "cells": [
  {
   "metadata": {},
   "cell_type": "markdown",
   "source": [
    "# Exploratory data analysis of paper sentence dataset for citation classification\n",
    "\n",
    "This notebook aims to analyze the data found in two paper sentence datasets with the purpose of reworking the dataset into citing sentences and non-citing sentences. We will be attempting to find citation markers in sentences to classify something as citing."
   ],
   "id": "d29be8aa22f5cb7c"
  },
  {
   "metadata": {},
   "cell_type": "markdown",
   "source": [
    "## Getting the data\n",
    "\n",
    "It can be easily acquired from [here](https://www.dropbox.com/scl/fi/s56s5v01yp5r2v64m9bxr/dss.tar.gz?rlkey=jvobt45y7f5c3yyeopck1q7ch&e=1&dl=0), extract the archive anywhere on your system and update `PATH_TO_DATA`.\n",
    "\n",
    "Both datasets have the following format:\n",
    "- `.txt` file for each paper, containing sentences separated by `\\n============\\n` and citations marked with `[number]` or `<PUBLICATION:paper_url>`.\n",
    "- `.ref` file detailing each reference"
   ],
   "id": "4e13cf36405f8079"
  },
  {
   "metadata": {
    "ExecuteTime": {
     "end_time": "2025-03-03T09:29:55.749762Z",
     "start_time": "2025-03-03T09:29:55.249520Z"
    }
   },
   "cell_type": "code",
   "source": [
    "import pandas as pd\n",
    "import os\n",
    "\n",
    "from pathlib import Path\n",
    "\n",
    "# Change as needed\n",
    "PATH_TO_DATA = Path(\"C:\\\\Users\\\\Adrian\\\\Downloads\\\\dss\")\n"
   ],
   "id": "84efba83eb1c923f",
   "outputs": [],
   "execution_count": 2
  },
  {
   "metadata": {
    "ExecuteTime": {
     "end_time": "2025-03-03T09:30:06.888815Z",
     "start_time": "2025-03-03T09:29:56.008103Z"
    }
   },
   "cell_type": "code",
   "source": [
    "files = []\n",
    "\n",
    "for root, _, filenames in os.walk(PATH_TO_DATA):\n",
    "    for filename in filenames:\n",
    "        if filename.endswith(\".txt\"):\n",
    "            files.append(os.path.join(root, filename))\n",
    "\n",
    "print(f\"Found {len(files)} files\")"
   ],
   "id": "a20ea4221dd885cd",
   "outputs": [
    {
     "name": "stdout",
     "output_type": "stream",
     "text": [
      "Found 160204 files\n"
     ]
    }
   ],
   "execution_count": 3
  },
  {
   "metadata": {
    "ExecuteTime": {
     "end_time": "2025-03-03T09:30:22.567709Z",
     "start_time": "2025-03-03T09:30:06.986285Z"
    }
   },
   "cell_type": "code",
   "source": [
    "sentences = []\n",
    "\n",
    "for file in files[:1000]:\n",
    "    with open(file, \"r\", encoding=\"utf-8\") as f:\n",
    "        sentences.extend(f.read().split(\"\\n============\\n\"))\n",
    "\n",
    "print(f\"Found {len(sentences)} sentences\")"
   ],
   "id": "aa03a9038cb35995",
   "outputs": [
    {
     "name": "stdout",
     "output_type": "stream",
     "text": [
      "Found 150872 sentences\n"
     ]
    }
   ],
   "execution_count": 4
  },
  {
   "metadata": {
    "ExecuteTime": {
     "end_time": "2025-03-03T09:30:22.862142Z",
     "start_time": "2025-03-03T09:30:22.648937Z"
    }
   },
   "cell_type": "code",
   "source": [
    "df = pd.DataFrame(sentences, columns=[\"sentence\"])\n",
    "\n",
    "# extract citation markers\n",
    "citation_markers = df[\"sentence\"].str.extract(r\"(\\[.*\\]|<.*>)\")[0]\n",
    "\n",
    "citation_markers.value_counts()"
   ],
   "id": "9e7026667e1a4805",
   "outputs": [
    {
     "data": {
      "text/plain": [
       "0\n",
       "<formula>                                                                                                                                                                                                                                                                                                                                                                                                                20183\n",
       "<formula> and <formula>                                                                                                                                                                                                                                                                                                                                                                                                   1734\n",
       "<formula>, <formula>                                                                                                                                                                                                                                                                                                                                                                                                       242\n",
       "<formula>, where <formula>                                                                                                                                                                                                                                                                                                                                                                                                 172\n",
       "<formula>, <formula> and <formula>                                                                                                                                                                                                                                                                                                                                                                                         129\n",
       "                                                                                                                                                                                                                                                                                                                                                                                                                         ...  \n",
       "<formula> For any <formula> let us denote the restrictions <formula> and <formula> Since, <formula> one sees that any <formula> is uniquely decomposed into with <formula> <formula> <formula> and <formula> With our definitions, <formula> and the decomposition () holds for any <formula> with One applies the abstract results of Section with This gives <formula> with the Orlicz norm <formula> and <formula>        1\n",
       "<formula> is the completion of <formula> endowed with the norm <formula> One denotes <formula> It is isomorphic to the closure of the subspace <formula> in <formula>                                                                                                                                                                                                                                                        1\n",
       "<formula> for <formula> Remark that this can be interpreted as a dual bracket between <formula> and <formula> since <formula> <formula>                                                                                                                                                                                                                                                                                      1\n",
       "<formula> is defined by <formula> for each <formula> It corresponds to <formula> But this <formula>                                                                                                                                                                                                                                                                                                                          1\n",
       "<formula> <formula> and for all <formula> with the additional constraint that <formula>                                                                                                                                                                                                                                                                                                                                      1\n",
       "Name: count, Length: 53337, dtype: int64"
      ]
     },
     "execution_count": 5,
     "metadata": {},
     "output_type": "execute_result"
    }
   ],
   "execution_count": 5
  },
  {
   "metadata": {},
   "cell_type": "markdown",
   "source": "The regex needs some refinement, as the author of the datasets replaced all formulas with `<formula>`, as well as handle other things that might be in brackets.",
   "id": "740262a054a071e5"
  },
  {
   "metadata": {
    "ExecuteTime": {
     "end_time": "2025-03-03T09:30:33.800529Z",
     "start_time": "2025-03-03T09:30:33.282499Z"
    }
   },
   "cell_type": "code",
   "source": [
    "citation_markers = df[\"sentence\"].str.extract(r\" ?(\\[\\d+(?:-\\d+|(?:, ?\\d+(-\\d+)?)*)+\\]|<([A-Z]+:[a-zA-Z0-9._:/-]*)>) ?\")[0]\n",
    "\n",
    "citation_markers.value_counts()"
   ],
   "id": "62b2bc83c5cbd32f",
   "outputs": [
    {
     "data": {
      "text/plain": [
       "0\n",
       "<GC:>                                                     289\n",
       "<GC:and>                                                  141\n",
       "<GC:and.cover.minus.plus.thomas>                           58\n",
       "<DBLP:http://dblp.org/rec/journals/corr/abs-0704-0229>     54\n",
       "<DBLP:http://dblp.org/rec/journals/lmcs/BlassGRR07a>       47\n",
       "                                                         ... \n",
       "<GC:and.ben.greville.israel.springer>                       1\n",
       "<DBLP:http://dblp.org/rec/journals/gc/Tay93>                1\n",
       "<DBLP:http://dblp.org/rec/conf/cccg/LeeST05>                1\n",
       "<GC:johnson.lindenstrauss.matouek.the.variants>             1\n",
       "<GC:computing.grid.lamanna.lhc.the>                         1\n",
       "Name: count, Length: 7127, dtype: int64"
      ]
     },
     "execution_count": 6,
     "metadata": {},
     "output_type": "execute_result"
    }
   ],
   "execution_count": 6
  },
  {
   "metadata": {
    "ExecuteTime": {
     "end_time": "2025-03-03T09:31:45.681561Z",
     "start_time": "2025-03-03T09:31:44.340646Z"
    }
   },
   "cell_type": "code",
   "source": [
    "import re\n",
    "\n",
    "CITATION_REGEX = r\" ?(\\[\\d+(?:-\\d+|(?:, ?\\d+(-\\d+)?)*)+\\]|<([A-Z]+:[a-zA-Z0-9._:/-]*)>) ?\"\n",
    "\n",
    "df = pd.DataFrame(map(lambda sentence: [re.sub(CITATION_REGEX,\n",
    "                                                   \"\",\n",
    "                                                   sentence),\n",
    "                                            bool(re.search(CITATION_REGEX,\n",
    "                                                           sentence))\n",
    "                                            ],\n",
    "                          df[\"sentence\"]),\n",
    "                      columns=[\"sentence\", \"citing\"])\n"
   ],
   "id": "79f0a06adadb219d",
   "outputs": [],
   "execution_count": 7
  },
  {
   "metadata": {
    "ExecuteTime": {
     "end_time": "2025-03-03T09:31:54.071198Z",
     "start_time": "2025-03-03T09:31:54.058223Z"
    }
   },
   "cell_type": "code",
   "source": "df",
   "id": "b90bf22b08f6c627",
   "outputs": [
    {
     "data": {
      "text/plain": [
       "                                                 sentence  citing\n",
       "0       =1 The focus of this paper is decompositions o...   False\n",
       "1       We use graphto mean a multigraph, possibly wit...   False\n",
       "2       We say that a graph is <formula>-sparseif no s...   False\n",
       "3       We call the range <formula> the upper range of...   False\n",
       "4       In this paper, we present efficient algorithms...   False\n",
       "...                                                   ...     ...\n",
       "150867  The entropies defined below occur naturally in...   False\n",
       "150868  The Boltzmann entropy with respect to the posi...   False\n",
       "150869  A way to circumvent this problem is to conside...   False\n",
       "150870   Let <formula> be a positive measurable function.   False\n",
       "150871  The reverse relative entropy is It corresponds...   False\n",
       "\n",
       "[150872 rows x 2 columns]"
      ],
      "text/html": [
       "<div>\n",
       "<style scoped>\n",
       "    .dataframe tbody tr th:only-of-type {\n",
       "        vertical-align: middle;\n",
       "    }\n",
       "\n",
       "    .dataframe tbody tr th {\n",
       "        vertical-align: top;\n",
       "    }\n",
       "\n",
       "    .dataframe thead th {\n",
       "        text-align: right;\n",
       "    }\n",
       "</style>\n",
       "<table border=\"1\" class=\"dataframe\">\n",
       "  <thead>\n",
       "    <tr style=\"text-align: right;\">\n",
       "      <th></th>\n",
       "      <th>sentence</th>\n",
       "      <th>citing</th>\n",
       "    </tr>\n",
       "  </thead>\n",
       "  <tbody>\n",
       "    <tr>\n",
       "      <th>0</th>\n",
       "      <td>=1 The focus of this paper is decompositions o...</td>\n",
       "      <td>False</td>\n",
       "    </tr>\n",
       "    <tr>\n",
       "      <th>1</th>\n",
       "      <td>We use graphto mean a multigraph, possibly wit...</td>\n",
       "      <td>False</td>\n",
       "    </tr>\n",
       "    <tr>\n",
       "      <th>2</th>\n",
       "      <td>We say that a graph is &lt;formula&gt;-sparseif no s...</td>\n",
       "      <td>False</td>\n",
       "    </tr>\n",
       "    <tr>\n",
       "      <th>3</th>\n",
       "      <td>We call the range &lt;formula&gt; the upper range of...</td>\n",
       "      <td>False</td>\n",
       "    </tr>\n",
       "    <tr>\n",
       "      <th>4</th>\n",
       "      <td>In this paper, we present efficient algorithms...</td>\n",
       "      <td>False</td>\n",
       "    </tr>\n",
       "    <tr>\n",
       "      <th>...</th>\n",
       "      <td>...</td>\n",
       "      <td>...</td>\n",
       "    </tr>\n",
       "    <tr>\n",
       "      <th>150867</th>\n",
       "      <td>The entropies defined below occur naturally in...</td>\n",
       "      <td>False</td>\n",
       "    </tr>\n",
       "    <tr>\n",
       "      <th>150868</th>\n",
       "      <td>The Boltzmann entropy with respect to the posi...</td>\n",
       "      <td>False</td>\n",
       "    </tr>\n",
       "    <tr>\n",
       "      <th>150869</th>\n",
       "      <td>A way to circumvent this problem is to conside...</td>\n",
       "      <td>False</td>\n",
       "    </tr>\n",
       "    <tr>\n",
       "      <th>150870</th>\n",
       "      <td>Let &lt;formula&gt; be a positive measurable function.</td>\n",
       "      <td>False</td>\n",
       "    </tr>\n",
       "    <tr>\n",
       "      <th>150871</th>\n",
       "      <td>The reverse relative entropy is It corresponds...</td>\n",
       "      <td>False</td>\n",
       "    </tr>\n",
       "  </tbody>\n",
       "</table>\n",
       "<p>150872 rows × 2 columns</p>\n",
       "</div>"
      ]
     },
     "execution_count": 8,
     "metadata": {},
     "output_type": "execute_result"
    }
   ],
   "execution_count": 8
  }
 ],
 "metadata": {
  "kernelspec": {
   "display_name": "Python 3",
   "language": "python",
   "name": "python3"
  },
  "language_info": {
   "codemirror_mode": {
    "name": "ipython",
    "version": 2
   },
   "file_extension": ".py",
   "mimetype": "text/x-python",
   "name": "python",
   "nbconvert_exporter": "python",
   "pygments_lexer": "ipython2",
   "version": "2.7.6"
  }
 },
 "nbformat": 4,
 "nbformat_minor": 5
}
